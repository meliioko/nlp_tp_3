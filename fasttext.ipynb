{
  "cells": [
    {
      "cell_type": "code",
      "execution_count": 22,
      "metadata": {
        "id": "Lry1hIhlrcOh"
      },
      "outputs": [],
      "source": [
        "import fasttext"
      ]
    },
    {
      "cell_type": "markdown",
      "metadata": {
        "id": "LctQeSgr-oix"
      },
      "source": [
        "1. (2 points) Turn the dataset into a dataset compatible with Fastext (see the _Tips on using FastText_ section a bit lower).\n",
        "   * For pretreatment, only apply lower casing and punctuation removal."
      ]
    },
    {
      "cell_type": "markdown",
      "metadata": {
        "id": "BE3E2i7d-oiz"
      },
      "source": [
        "First we load the data and apply preatreatment"
      ]
    },
    {
      "cell_type": "code",
      "execution_count": 23,
      "metadata": {
        "colab": {
          "base_uri": "https://localhost:8080/",
          "height": 104,
          "referenced_widgets": [
            "572426c305754c28a5d6f71298b51b25",
            "c8453c4e5e2b46aeb2b86839c5be2839",
            "22c88324dc084ecbbc45ee1514934903",
            "80f9b854102d4cd38215f744f7d25934",
            "f5d591ad3cb94245a286a53b507f3662",
            "03185056352b42018934c45d0649ca5e",
            "8050c855114d4ba1a9404f01d6688e7a",
            "146603888a7949b98c89e54f1233ebd3",
            "b2d011e572e54f7c9146ee0dab553d21",
            "4c96847cba34497fbcbbf43fe2a6515c",
            "d1342dc09ddb4267a1178839ca6e7f06"
          ]
        },
        "id": "hIWggbIWrnW8",
        "outputId": "ad58c036-c945-4166-9113-0ee18a877d6a"
      },
      "outputs": [
        {
          "output_type": "stream",
          "name": "stderr",
          "text": [
            "WARNING:datasets.builder:Found cached dataset imdb (/root/.cache/huggingface/datasets/imdb/plain_text/1.0.0/d613c88cf8fa3bab83b4ded3713f1f74830d1100e171db75bbddb80b3345c9c0)\n"
          ]
        },
        {
          "output_type": "display_data",
          "data": {
            "text/plain": [
              "  0%|          | 0/3 [00:00<?, ?it/s]"
            ],
            "application/vnd.jupyter.widget-view+json": {
              "version_major": 2,
              "version_minor": 0,
              "model_id": "572426c305754c28a5d6f71298b51b25"
            }
          },
          "metadata": {}
        },
        {
          "output_type": "stream",
          "name": "stderr",
          "text": [
            "WARNING:datasets.arrow_dataset:Loading cached split indices for dataset at /root/.cache/huggingface/datasets/imdb/plain_text/1.0.0/d613c88cf8fa3bab83b4ded3713f1f74830d1100e171db75bbddb80b3345c9c0/cache-5f37fd0866e4f89f.arrow and /root/.cache/huggingface/datasets/imdb/plain_text/1.0.0/d613c88cf8fa3bab83b4ded3713f1f74830d1100e171db75bbddb80b3345c9c0/cache-dd5732a0e6ac784c.arrow\n"
          ]
        }
      ],
      "source": [
        "from datasets import load_dataset, Dataset\n",
        "imdb_dataset = load_dataset(\"imdb\")\n",
        "train_dataset = imdb_dataset[\"train\"].train_test_split(\n",
        "    stratify_by_column=\"label\", test_size=0.2, seed=42\n",
        ")\n",
        "test_df = imdb_dataset[\"test\"]\n",
        "train_df = train_dataset[\"train\"]\n",
        "valid_df = train_dataset[\"test\"]"
      ]
    },
    {
      "cell_type": "markdown",
      "metadata": {
        "id": "3ygqqeHo-oi1"
      },
      "source": [
        "Then we create a file and insert the data in a format understandable by fasttext"
      ]
    },
    {
      "cell_type": "code",
      "execution_count": 24,
      "metadata": {
        "colab": {
          "base_uri": "https://localhost:8080/"
        },
        "id": "c7oT3VOPsvcX",
        "outputId": "5a15b62a-fb2a-4e6f-b835-46e7108aa74f"
      },
      "outputs": [
        {
          "output_type": "stream",
          "name": "stderr",
          "text": [
            "WARNING:datasets.arrow_dataset:Loading cached shuffled indices for dataset at /root/.cache/huggingface/datasets/imdb/plain_text/1.0.0/d613c88cf8fa3bab83b4ded3713f1f74830d1100e171db75bbddb80b3345c9c0/cache-1646f8e39e83ca42.arrow\n"
          ]
        }
      ],
      "source": [
        "from string import punctuation\n",
        "from typing import Type\n",
        "import re\n",
        "def clean_text(text_data: str) -> str:\n",
        "    \"\"\"\n",
        "    Function lowering and removing ponctuation of a string\n",
        "    \"\"\"\n",
        "    text_data = text_data.lower()\n",
        "    text_data = re.sub(\"[\" + punctuation + \"]( |$)\", \"\", text_data)\n",
        "    return text_data\n",
        "\n",
        "def create_fasttext_file(dataset: Type[Dataset], name: str):\n",
        "    with open(name, 'w') as f:\n",
        "        for example in dataset.shuffle(seed=42):\n",
        "            label = '__label__' + ('positive' if example['label'] == 1 else 'negative')\n",
        "            text = clean_text(example['text']).replace('\\n', ' ')\n",
        "            f.write(label + ' ' + text + '\\n')\n",
        "create_fasttext_file(train_df, 'imdb_train.txt')"
      ]
    },
    {
      "cell_type": "markdown",
      "metadata": {
        "id": "YEO5Jesa-oi3"
      },
      "source": [
        "2. (2 points) Train a FastText classifier with default parameters on the training data, and evaluate it on the test data using accuracy."
      ]
    },
    {
      "cell_type": "code",
      "execution_count": 25,
      "metadata": {
        "id": "JAKqsD3hw3ZS"
      },
      "outputs": [],
      "source": [
        "model = fasttext.train_supervised('imdb_train.txt')"
      ]
    },
    {
      "cell_type": "code",
      "execution_count": 26,
      "metadata": {
        "colab": {
          "base_uri": "https://localhost:8080/"
        },
        "id": "Xpokp3s-wyMV",
        "outputId": "e222e031-61cf-4abd-8264-53330cca0bde"
      },
      "outputs": [
        {
          "output_type": "stream",
          "name": "stderr",
          "text": [
            "WARNING:datasets.arrow_dataset:Loading cached shuffled indices for dataset at /root/.cache/huggingface/datasets/imdb/plain_text/1.0.0/d613c88cf8fa3bab83b4ded3713f1f74830d1100e171db75bbddb80b3345c9c0/cache-c1eaa46e94dfbfd3.arrow\n"
          ]
        }
      ],
      "source": [
        "create_fasttext_file(test_df, 'imdb_test.txt')"
      ]
    },
    {
      "cell_type": "code",
      "execution_count": 27,
      "metadata": {
        "colab": {
          "base_uri": "https://localhost:8080/"
        },
        "id": "aAYSDBOKxU1Y",
        "outputId": "7f17c3c7-ace1-4cb2-c6c8-f309b8f896e6"
      },
      "outputs": [
        {
          "output_type": "execute_result",
          "data": {
            "text/plain": [
              "(25000, 0.84172, 0.84172)"
            ]
          },
          "metadata": {},
          "execution_count": 27
        }
      ],
      "source": [
        "result = model.test('imdb_test.txt')\n",
        "result"
      ]
    },
    {
      "cell_type": "markdown",
      "metadata": {
        "id": "1JN_1PCd-oi6"
      },
      "source": [
        "The model was evaluated on the 25000 element of the test dataset and have an accuracy of **0.842** (as there is no seeding with fastext, it can be changed by a new execution)"
      ]
    },
    {
      "cell_type": "markdown",
      "metadata": {
        "id": "J-jcaGVW-oi7"
      },
      "source": [
        "3. (2 points) Use the [hyperparameters search functionality](https://fasttext.cc/docs/en/autotune.html) of FastText and repeat step 2.\n",
        "   * To do so, you'll need to [split](https://scikit-learn.org/stable/modules/generated/sklearn.model_selection.train_test_split.html) your training set into a training and a validation set.\n",
        "   * Let the model search for 5 minutes (it's the default search time).\n",
        "   * Don't forget to shuffle (and stratify) your splits. The dataset has its entry ordered by label (0s first, then 1s). Feeding the classifier one class and then the second can mess with its performances."
      ]
    },
    {
      "cell_type": "markdown",
      "metadata": {
        "id": "EWh11Kjn-oi8"
      },
      "source": [
        "First we create the file for the val dataset, used for the hyperparameter search"
      ]
    },
    {
      "cell_type": "code",
      "execution_count": 28,
      "metadata": {
        "colab": {
          "base_uri": "https://localhost:8080/"
        },
        "id": "o2ydWQiMzLzX",
        "outputId": "8027c407-305f-48f4-b547-366cc9556535"
      },
      "outputs": [
        {
          "output_type": "stream",
          "name": "stderr",
          "text": [
            "WARNING:datasets.arrow_dataset:Loading cached shuffled indices for dataset at /root/.cache/huggingface/datasets/imdb/plain_text/1.0.0/d613c88cf8fa3bab83b4ded3713f1f74830d1100e171db75bbddb80b3345c9c0/cache-2b5fa46213387c00.arrow\n"
          ]
        }
      ],
      "source": [
        "create_fasttext_file(valid_df, 'imdb_val.txt')"
      ]
    },
    {
      "cell_type": "markdown",
      "metadata": {
        "id": "ydhfzD5C-oi9"
      },
      "source": [
        "Then we use the **train_supervised** function to do the hyperparameter search"
      ]
    },
    {
      "cell_type": "code",
      "execution_count": 29,
      "metadata": {
        "id": "ob1-Vn0602SF"
      },
      "outputs": [],
      "source": [
        "best_model = fasttext.train_supervised(\n",
        "    input='imdb_train.txt',\n",
        "    autotuneValidationFile='imdb_val.txt',\n",
        "    autotuneMetric='f1')"
      ]
    },
    {
      "cell_type": "code",
      "execution_count": 30,
      "metadata": {
        "id": "4VhNBkkc-oi-",
        "outputId": "0df16743-b6f3-4721-98f8-91dbec9d27dd",
        "colab": {
          "base_uri": "https://localhost:8080/"
        }
      },
      "outputs": [
        {
          "output_type": "stream",
          "name": "stdout",
          "text": [
            "Accuracy: 0.86256\n"
          ]
        }
      ],
      "source": [
        "# Test the best model on the test data\n",
        "test_data = 'imdb_test.txt'\n",
        "result = best_model.test(test_data)\n",
        "print(\"Accuracy:\", result[1])"
      ]
    },
    {
      "cell_type": "markdown",
      "metadata": {
        "id": "L3tr1ni1-oi-"
      },
      "source": [
        "The accuracy for the best model is now : **0.862**. We have a 2% improvement wich is good for the same model"
      ]
    },
    {
      "cell_type": "code",
      "execution_count": 31,
      "metadata": {
        "id": "daLUuCHP-oi-",
        "outputId": "a29cbc5a-bd63-490c-cb7f-b41ef3276465",
        "colab": {
          "base_uri": "https://localhost:8080/"
        }
      },
      "outputs": [
        {
          "output_type": "stream",
          "name": "stdout",
          "text": [
            "Basic model :\n",
            "lr: 0.1\n",
            "Ngrams: 1\n",
            "epoch: 5\n",
            "dim: 100\n",
            "\n",
            "Best model :\n",
            "lr: 0.04610774340466207\n",
            "Ngrams: 1\n",
            "epoch: 45\n",
            "dim: 61\n"
          ]
        }
      ],
      "source": [
        "print('Basic model :')\n",
        "print(f'lr: {model.lr}')\n",
        "print(f'Ngrams: {model.wordNgrams}')\n",
        "print(f'epoch: {model.epoch}')\n",
        "print(f'dim: {model.dim}')\n",
        "print('\\nBest model :')\n",
        "print(f'lr: {best_model.lr}')\n",
        "print(f'Ngrams: {best_model.wordNgrams}')\n",
        "print(f'epoch: {best_model.epoch}')\n",
        "print(f'dim: {best_model.dim}')\n"
      ]
    },
    {
      "cell_type": "markdown",
      "source": [
        "We can see that the dim of the vectors has been reduced, the lr is smaller, to avoid missing the opimum and we train on much more epoch."
      ],
      "metadata": {
        "id": "MZs9gcPPGZL2"
      }
    },
    {
      "cell_type": "markdown",
      "source": [
        "5. (1 point) Using the tuned model, take at least 2 wrongly classified examples from the test set, and try explaining why the model failed."
      ],
      "metadata": {
        "id": "JDKlgBikEZPU"
      }
    },
    {
      "cell_type": "code",
      "execution_count": 32,
      "metadata": {
        "id": "8LkUzc8F-oi_"
      },
      "outputs": [],
      "source": [
        "import pandas as pd\n",
        "\n",
        "data = pd.DataFrame(test_df)\n"
      ]
    },
    {
      "cell_type": "code",
      "execution_count": 33,
      "metadata": {
        "id": "Mn7Wpq1D-ojA",
        "outputId": "019d0064-2801-4f62-f721-0f1a42cd127b",
        "colab": {
          "base_uri": "https://localhost:8080/",
          "height": 424
        }
      },
      "outputs": [
        {
          "output_type": "execute_result",
          "data": {
            "text/plain": [
              "                                                    text  label  pred  \\\n",
              "0      I love sci-fi and am willing to put up with a ...      0     0   \n",
              "1      Worth the entertainment value of a rental, esp...      0     0   \n",
              "2      its a totally average film with a few semi-alr...      0     0   \n",
              "3      STAR RATING: ***** Saturday Night **** Friday ...      0     0   \n",
              "4      First off let me say, If you haven't enjoyed a...      0     1   \n",
              "...                                                  ...    ...   ...   \n",
              "24995  Just got around to seeing Monster Man yesterda...      1     1   \n",
              "24996  I got this as part of a competition prize. I w...      1     0   \n",
              "24997  I got Monster Man in a box set of three films ...      1     0   \n",
              "24998  Five minutes in, i started to feel how naff th...      1     0   \n",
              "24999  I caught this movie on the Sci-Fi channel rece...      1     1   \n",
              "\n",
              "                      proba  \n",
              "0      [0.9984738826751709]  \n",
              "1      [0.6790785193443298]  \n",
              "2       [0.996353805065155]  \n",
              "3      [0.9988548755645752]  \n",
              "4      [0.9999990463256836]  \n",
              "...                     ...  \n",
              "24995  [0.5521440505981445]  \n",
              "24996  [0.7088169455528259]  \n",
              "24997  [0.7206078767776489]  \n",
              "24998  [0.9826634526252747]  \n",
              "24999  [0.8484305739402771]  \n",
              "\n",
              "[25000 rows x 4 columns]"
            ],
            "text/html": [
              "\n",
              "  <div id=\"df-1489b77d-f808-45b4-b89c-dbadff0a6c62\">\n",
              "    <div class=\"colab-df-container\">\n",
              "      <div>\n",
              "<style scoped>\n",
              "    .dataframe tbody tr th:only-of-type {\n",
              "        vertical-align: middle;\n",
              "    }\n",
              "\n",
              "    .dataframe tbody tr th {\n",
              "        vertical-align: top;\n",
              "    }\n",
              "\n",
              "    .dataframe thead th {\n",
              "        text-align: right;\n",
              "    }\n",
              "</style>\n",
              "<table border=\"1\" class=\"dataframe\">\n",
              "  <thead>\n",
              "    <tr style=\"text-align: right;\">\n",
              "      <th></th>\n",
              "      <th>text</th>\n",
              "      <th>label</th>\n",
              "      <th>pred</th>\n",
              "      <th>proba</th>\n",
              "    </tr>\n",
              "  </thead>\n",
              "  <tbody>\n",
              "    <tr>\n",
              "      <th>0</th>\n",
              "      <td>I love sci-fi and am willing to put up with a ...</td>\n",
              "      <td>0</td>\n",
              "      <td>0</td>\n",
              "      <td>[0.9984738826751709]</td>\n",
              "    </tr>\n",
              "    <tr>\n",
              "      <th>1</th>\n",
              "      <td>Worth the entertainment value of a rental, esp...</td>\n",
              "      <td>0</td>\n",
              "      <td>0</td>\n",
              "      <td>[0.6790785193443298]</td>\n",
              "    </tr>\n",
              "    <tr>\n",
              "      <th>2</th>\n",
              "      <td>its a totally average film with a few semi-alr...</td>\n",
              "      <td>0</td>\n",
              "      <td>0</td>\n",
              "      <td>[0.996353805065155]</td>\n",
              "    </tr>\n",
              "    <tr>\n",
              "      <th>3</th>\n",
              "      <td>STAR RATING: ***** Saturday Night **** Friday ...</td>\n",
              "      <td>0</td>\n",
              "      <td>0</td>\n",
              "      <td>[0.9988548755645752]</td>\n",
              "    </tr>\n",
              "    <tr>\n",
              "      <th>4</th>\n",
              "      <td>First off let me say, If you haven't enjoyed a...</td>\n",
              "      <td>0</td>\n",
              "      <td>1</td>\n",
              "      <td>[0.9999990463256836]</td>\n",
              "    </tr>\n",
              "    <tr>\n",
              "      <th>...</th>\n",
              "      <td>...</td>\n",
              "      <td>...</td>\n",
              "      <td>...</td>\n",
              "      <td>...</td>\n",
              "    </tr>\n",
              "    <tr>\n",
              "      <th>24995</th>\n",
              "      <td>Just got around to seeing Monster Man yesterda...</td>\n",
              "      <td>1</td>\n",
              "      <td>1</td>\n",
              "      <td>[0.5521440505981445]</td>\n",
              "    </tr>\n",
              "    <tr>\n",
              "      <th>24996</th>\n",
              "      <td>I got this as part of a competition prize. I w...</td>\n",
              "      <td>1</td>\n",
              "      <td>0</td>\n",
              "      <td>[0.7088169455528259]</td>\n",
              "    </tr>\n",
              "    <tr>\n",
              "      <th>24997</th>\n",
              "      <td>I got Monster Man in a box set of three films ...</td>\n",
              "      <td>1</td>\n",
              "      <td>0</td>\n",
              "      <td>[0.7206078767776489]</td>\n",
              "    </tr>\n",
              "    <tr>\n",
              "      <th>24998</th>\n",
              "      <td>Five minutes in, i started to feel how naff th...</td>\n",
              "      <td>1</td>\n",
              "      <td>0</td>\n",
              "      <td>[0.9826634526252747]</td>\n",
              "    </tr>\n",
              "    <tr>\n",
              "      <th>24999</th>\n",
              "      <td>I caught this movie on the Sci-Fi channel rece...</td>\n",
              "      <td>1</td>\n",
              "      <td>1</td>\n",
              "      <td>[0.8484305739402771]</td>\n",
              "    </tr>\n",
              "  </tbody>\n",
              "</table>\n",
              "<p>25000 rows × 4 columns</p>\n",
              "</div>\n",
              "      <button class=\"colab-df-convert\" onclick=\"convertToInteractive('df-1489b77d-f808-45b4-b89c-dbadff0a6c62')\"\n",
              "              title=\"Convert this dataframe to an interactive table.\"\n",
              "              style=\"display:none;\">\n",
              "        \n",
              "  <svg xmlns=\"http://www.w3.org/2000/svg\" height=\"24px\"viewBox=\"0 0 24 24\"\n",
              "       width=\"24px\">\n",
              "    <path d=\"M0 0h24v24H0V0z\" fill=\"none\"/>\n",
              "    <path d=\"M18.56 5.44l.94 2.06.94-2.06 2.06-.94-2.06-.94-.94-2.06-.94 2.06-2.06.94zm-11 1L8.5 8.5l.94-2.06 2.06-.94-2.06-.94L8.5 2.5l-.94 2.06-2.06.94zm10 10l.94 2.06.94-2.06 2.06-.94-2.06-.94-.94-2.06-.94 2.06-2.06.94z\"/><path d=\"M17.41 7.96l-1.37-1.37c-.4-.4-.92-.59-1.43-.59-.52 0-1.04.2-1.43.59L10.3 9.45l-7.72 7.72c-.78.78-.78 2.05 0 2.83L4 21.41c.39.39.9.59 1.41.59.51 0 1.02-.2 1.41-.59l7.78-7.78 2.81-2.81c.8-.78.8-2.07 0-2.86zM5.41 20L4 18.59l7.72-7.72 1.47 1.35L5.41 20z\"/>\n",
              "  </svg>\n",
              "      </button>\n",
              "      \n",
              "  <style>\n",
              "    .colab-df-container {\n",
              "      display:flex;\n",
              "      flex-wrap:wrap;\n",
              "      gap: 12px;\n",
              "    }\n",
              "\n",
              "    .colab-df-convert {\n",
              "      background-color: #E8F0FE;\n",
              "      border: none;\n",
              "      border-radius: 50%;\n",
              "      cursor: pointer;\n",
              "      display: none;\n",
              "      fill: #1967D2;\n",
              "      height: 32px;\n",
              "      padding: 0 0 0 0;\n",
              "      width: 32px;\n",
              "    }\n",
              "\n",
              "    .colab-df-convert:hover {\n",
              "      background-color: #E2EBFA;\n",
              "      box-shadow: 0px 1px 2px rgba(60, 64, 67, 0.3), 0px 1px 3px 1px rgba(60, 64, 67, 0.15);\n",
              "      fill: #174EA6;\n",
              "    }\n",
              "\n",
              "    [theme=dark] .colab-df-convert {\n",
              "      background-color: #3B4455;\n",
              "      fill: #D2E3FC;\n",
              "    }\n",
              "\n",
              "    [theme=dark] .colab-df-convert:hover {\n",
              "      background-color: #434B5C;\n",
              "      box-shadow: 0px 1px 3px 1px rgba(0, 0, 0, 0.15);\n",
              "      filter: drop-shadow(0px 1px 2px rgba(0, 0, 0, 0.3));\n",
              "      fill: #FFFFFF;\n",
              "    }\n",
              "  </style>\n",
              "\n",
              "      <script>\n",
              "        const buttonEl =\n",
              "          document.querySelector('#df-1489b77d-f808-45b4-b89c-dbadff0a6c62 button.colab-df-convert');\n",
              "        buttonEl.style.display =\n",
              "          google.colab.kernel.accessAllowed ? 'block' : 'none';\n",
              "\n",
              "        async function convertToInteractive(key) {\n",
              "          const element = document.querySelector('#df-1489b77d-f808-45b4-b89c-dbadff0a6c62');\n",
              "          const dataTable =\n",
              "            await google.colab.kernel.invokeFunction('convertToInteractive',\n",
              "                                                     [key], {});\n",
              "          if (!dataTable) return;\n",
              "\n",
              "          const docLinkHtml = 'Like what you see? Visit the ' +\n",
              "            '<a target=\"_blank\" href=https://colab.research.google.com/notebooks/data_table.ipynb>data table notebook</a>'\n",
              "            + ' to learn more about interactive tables.';\n",
              "          element.innerHTML = '';\n",
              "          dataTable['output_type'] = 'display_data';\n",
              "          await google.colab.output.renderOutput(dataTable, element);\n",
              "          const docLink = document.createElement('div');\n",
              "          docLink.innerHTML = docLinkHtml;\n",
              "          element.appendChild(docLink);\n",
              "        }\n",
              "      </script>\n",
              "    </div>\n",
              "  </div>\n",
              "  "
            ]
          },
          "metadata": {},
          "execution_count": 33
        }
      ],
      "source": [
        "data['tuple']= data.text.apply(lambda x: best_model.predict(x))\n",
        "data[['pred', 'proba']] = data.tuple.apply(pd.Series)\n",
        "data.pred = data.pred.apply(lambda x :0 if x[0] == '__label__negative' else 1)\n",
        "data.drop('tuple', axis=1, inplace=True)\n",
        "data"
      ]
    },
    {
      "cell_type": "code",
      "execution_count": 34,
      "metadata": {
        "id": "AA-GLL71-ojB",
        "outputId": "b83faba9-8393-461a-ed47-3eb6b87e38c5",
        "colab": {
          "base_uri": "https://localhost:8080/",
          "height": 450
        }
      },
      "outputs": [
        {
          "output_type": "stream",
          "name": "stderr",
          "text": [
            "<ipython-input-34-1cde036fa7bc>:3: SettingWithCopyWarning: \n",
            "A value is trying to be set on a copy of a slice from a DataFrame\n",
            "\n",
            "See the caveats in the documentation: https://pandas.pydata.org/pandas-docs/stable/user_guide/indexing.html#returning-a-view-versus-a-copy\n",
            "  wrong.sort_values(by='proba', inplace=True)\n"
          ]
        },
        {
          "output_type": "execute_result",
          "data": {
            "text/plain": [
              "      index                                               text  label  pred  \\\n",
              "3292  23376  What is often neglected about Harold Lloyd is ...      1     0   \n",
              "2606  18915  I don't understand why this movie has such a l...      1     0   \n",
              "1457  11255  The core issues at play (God & Satan / Good & ...      0     1   \n",
              "968    7446  ...but I would be lying. A relative was a crew...      0     1   \n",
              "2675  19368  Jack and Kate meet the physician Daniel Farady...      1     0   \n",
              "108     741  The first official release of World Wrestling ...      0     1   \n",
              "437    3340  honestly I don't know why this show lasted as ...      0     1   \n",
              "2635  19113  A town in Japan is being taken over by a horri...      1     0   \n",
              "115     811  This was a mish mash of a film that started ou...      0     1   \n",
              "3290  23342  Probably one of his lesser known films, it suf...      1     0   \n",
              "\n",
              "                     proba  \n",
              "3292  [0.5001906156539917]  \n",
              "2606  [0.5002298355102539]  \n",
              "1457  [0.5005630850791931]  \n",
              "968   [0.5005725026130676]  \n",
              "2675  [0.5006703734397888]  \n",
              "108   [0.5006849765777588]  \n",
              "437   [0.5008364319801331]  \n",
              "2635  [0.5011528134346008]  \n",
              "115   [0.5012745261192322]  \n",
              "3290  [0.5019996166229248]  "
            ],
            "text/html": [
              "\n",
              "  <div id=\"df-029e3ddf-0a40-4c3b-8e6b-e7374805ff58\">\n",
              "    <div class=\"colab-df-container\">\n",
              "      <div>\n",
              "<style scoped>\n",
              "    .dataframe tbody tr th:only-of-type {\n",
              "        vertical-align: middle;\n",
              "    }\n",
              "\n",
              "    .dataframe tbody tr th {\n",
              "        vertical-align: top;\n",
              "    }\n",
              "\n",
              "    .dataframe thead th {\n",
              "        text-align: right;\n",
              "    }\n",
              "</style>\n",
              "<table border=\"1\" class=\"dataframe\">\n",
              "  <thead>\n",
              "    <tr style=\"text-align: right;\">\n",
              "      <th></th>\n",
              "      <th>index</th>\n",
              "      <th>text</th>\n",
              "      <th>label</th>\n",
              "      <th>pred</th>\n",
              "      <th>proba</th>\n",
              "    </tr>\n",
              "  </thead>\n",
              "  <tbody>\n",
              "    <tr>\n",
              "      <th>3292</th>\n",
              "      <td>23376</td>\n",
              "      <td>What is often neglected about Harold Lloyd is ...</td>\n",
              "      <td>1</td>\n",
              "      <td>0</td>\n",
              "      <td>[0.5001906156539917]</td>\n",
              "    </tr>\n",
              "    <tr>\n",
              "      <th>2606</th>\n",
              "      <td>18915</td>\n",
              "      <td>I don't understand why this movie has such a l...</td>\n",
              "      <td>1</td>\n",
              "      <td>0</td>\n",
              "      <td>[0.5002298355102539]</td>\n",
              "    </tr>\n",
              "    <tr>\n",
              "      <th>1457</th>\n",
              "      <td>11255</td>\n",
              "      <td>The core issues at play (God &amp; Satan / Good &amp; ...</td>\n",
              "      <td>0</td>\n",
              "      <td>1</td>\n",
              "      <td>[0.5005630850791931]</td>\n",
              "    </tr>\n",
              "    <tr>\n",
              "      <th>968</th>\n",
              "      <td>7446</td>\n",
              "      <td>...but I would be lying. A relative was a crew...</td>\n",
              "      <td>0</td>\n",
              "      <td>1</td>\n",
              "      <td>[0.5005725026130676]</td>\n",
              "    </tr>\n",
              "    <tr>\n",
              "      <th>2675</th>\n",
              "      <td>19368</td>\n",
              "      <td>Jack and Kate meet the physician Daniel Farady...</td>\n",
              "      <td>1</td>\n",
              "      <td>0</td>\n",
              "      <td>[0.5006703734397888]</td>\n",
              "    </tr>\n",
              "    <tr>\n",
              "      <th>108</th>\n",
              "      <td>741</td>\n",
              "      <td>The first official release of World Wrestling ...</td>\n",
              "      <td>0</td>\n",
              "      <td>1</td>\n",
              "      <td>[0.5006849765777588]</td>\n",
              "    </tr>\n",
              "    <tr>\n",
              "      <th>437</th>\n",
              "      <td>3340</td>\n",
              "      <td>honestly I don't know why this show lasted as ...</td>\n",
              "      <td>0</td>\n",
              "      <td>1</td>\n",
              "      <td>[0.5008364319801331]</td>\n",
              "    </tr>\n",
              "    <tr>\n",
              "      <th>2635</th>\n",
              "      <td>19113</td>\n",
              "      <td>A town in Japan is being taken over by a horri...</td>\n",
              "      <td>1</td>\n",
              "      <td>0</td>\n",
              "      <td>[0.5011528134346008]</td>\n",
              "    </tr>\n",
              "    <tr>\n",
              "      <th>115</th>\n",
              "      <td>811</td>\n",
              "      <td>This was a mish mash of a film that started ou...</td>\n",
              "      <td>0</td>\n",
              "      <td>1</td>\n",
              "      <td>[0.5012745261192322]</td>\n",
              "    </tr>\n",
              "    <tr>\n",
              "      <th>3290</th>\n",
              "      <td>23342</td>\n",
              "      <td>Probably one of his lesser known films, it suf...</td>\n",
              "      <td>1</td>\n",
              "      <td>0</td>\n",
              "      <td>[0.5019996166229248]</td>\n",
              "    </tr>\n",
              "  </tbody>\n",
              "</table>\n",
              "</div>\n",
              "      <button class=\"colab-df-convert\" onclick=\"convertToInteractive('df-029e3ddf-0a40-4c3b-8e6b-e7374805ff58')\"\n",
              "              title=\"Convert this dataframe to an interactive table.\"\n",
              "              style=\"display:none;\">\n",
              "        \n",
              "  <svg xmlns=\"http://www.w3.org/2000/svg\" height=\"24px\"viewBox=\"0 0 24 24\"\n",
              "       width=\"24px\">\n",
              "    <path d=\"M0 0h24v24H0V0z\" fill=\"none\"/>\n",
              "    <path d=\"M18.56 5.44l.94 2.06.94-2.06 2.06-.94-2.06-.94-.94-2.06-.94 2.06-2.06.94zm-11 1L8.5 8.5l.94-2.06 2.06-.94-2.06-.94L8.5 2.5l-.94 2.06-2.06.94zm10 10l.94 2.06.94-2.06 2.06-.94-2.06-.94-.94-2.06-.94 2.06-2.06.94z\"/><path d=\"M17.41 7.96l-1.37-1.37c-.4-.4-.92-.59-1.43-.59-.52 0-1.04.2-1.43.59L10.3 9.45l-7.72 7.72c-.78.78-.78 2.05 0 2.83L4 21.41c.39.39.9.59 1.41.59.51 0 1.02-.2 1.41-.59l7.78-7.78 2.81-2.81c.8-.78.8-2.07 0-2.86zM5.41 20L4 18.59l7.72-7.72 1.47 1.35L5.41 20z\"/>\n",
              "  </svg>\n",
              "      </button>\n",
              "      \n",
              "  <style>\n",
              "    .colab-df-container {\n",
              "      display:flex;\n",
              "      flex-wrap:wrap;\n",
              "      gap: 12px;\n",
              "    }\n",
              "\n",
              "    .colab-df-convert {\n",
              "      background-color: #E8F0FE;\n",
              "      border: none;\n",
              "      border-radius: 50%;\n",
              "      cursor: pointer;\n",
              "      display: none;\n",
              "      fill: #1967D2;\n",
              "      height: 32px;\n",
              "      padding: 0 0 0 0;\n",
              "      width: 32px;\n",
              "    }\n",
              "\n",
              "    .colab-df-convert:hover {\n",
              "      background-color: #E2EBFA;\n",
              "      box-shadow: 0px 1px 2px rgba(60, 64, 67, 0.3), 0px 1px 3px 1px rgba(60, 64, 67, 0.15);\n",
              "      fill: #174EA6;\n",
              "    }\n",
              "\n",
              "    [theme=dark] .colab-df-convert {\n",
              "      background-color: #3B4455;\n",
              "      fill: #D2E3FC;\n",
              "    }\n",
              "\n",
              "    [theme=dark] .colab-df-convert:hover {\n",
              "      background-color: #434B5C;\n",
              "      box-shadow: 0px 1px 3px 1px rgba(0, 0, 0, 0.15);\n",
              "      filter: drop-shadow(0px 1px 2px rgba(0, 0, 0, 0.3));\n",
              "      fill: #FFFFFF;\n",
              "    }\n",
              "  </style>\n",
              "\n",
              "      <script>\n",
              "        const buttonEl =\n",
              "          document.querySelector('#df-029e3ddf-0a40-4c3b-8e6b-e7374805ff58 button.colab-df-convert');\n",
              "        buttonEl.style.display =\n",
              "          google.colab.kernel.accessAllowed ? 'block' : 'none';\n",
              "\n",
              "        async function convertToInteractive(key) {\n",
              "          const element = document.querySelector('#df-029e3ddf-0a40-4c3b-8e6b-e7374805ff58');\n",
              "          const dataTable =\n",
              "            await google.colab.kernel.invokeFunction('convertToInteractive',\n",
              "                                                     [key], {});\n",
              "          if (!dataTable) return;\n",
              "\n",
              "          const docLinkHtml = 'Like what you see? Visit the ' +\n",
              "            '<a target=\"_blank\" href=https://colab.research.google.com/notebooks/data_table.ipynb>data table notebook</a>'\n",
              "            + ' to learn more about interactive tables.';\n",
              "          element.innerHTML = '';\n",
              "          dataTable['output_type'] = 'display_data';\n",
              "          await google.colab.output.renderOutput(dataTable, element);\n",
              "          const docLink = document.createElement('div');\n",
              "          docLink.innerHTML = docLinkHtml;\n",
              "          element.appendChild(docLink);\n",
              "        }\n",
              "      </script>\n",
              "    </div>\n",
              "  </div>\n",
              "  "
            ]
          },
          "metadata": {},
          "execution_count": 34
        }
      ],
      "source": [
        "wrong = data.loc[data.label != data.pred]\n",
        "wrong.reset_index(inplace=True)\n",
        "wrong.sort_values(by='proba', inplace=True)\n",
        "wrong.head(10)\n"
      ]
    },
    {
      "cell_type": "code",
      "execution_count": 35,
      "metadata": {
        "id": "Isd9u16j-ojB",
        "outputId": "fa300c0c-f327-44a6-eff2-84959db29b1c",
        "colab": {
          "base_uri": "https://localhost:8080/",
          "height": 106
        }
      },
      "outputs": [
        {
          "output_type": "execute_result",
          "data": {
            "text/plain": [
              "'What is often neglected about Harold Lloyd is that he was an actor. Unlike Chaplin and Keaton, Lloyd didn\\'t have the Vaudeville/Music Hall background and he wasn\\'t a natural comedian. He came to Hollywood to act; and he discovered he had a knack for acting funny -- first in shorts, then in features. He made a name for himself as \"Lonesome Luke\", a Chaplin knock-off; with the \"glasses character\" that made him the all-American boy rather than a grotesque, Lloyd found his stride and his movies became some of the best produced during the silent era.<br /><br />He developed a reputation as a \"daredevil\" in some shorts, and retained this in some of his best movies (\"Safety Last\", \"For Heaven\\'s Sake\", \"Girl Shy\"). He was more popular than either Chaplin or Keaton during the twenties and he became very rich before the advent of sound.<br /><br />The first sound movies were often disasters. To get the most out of their \"sound\", too much dialog was used in many movies.<br /><br />Lloyd\\'s acting skills were, after two decades, geared for silents. He didn\\'t have a bad voice; its high pitch suited his \"glasses\" character. And his sound films weren\\'t the unqualified disasters of legend. Yet silent movies had been raised to a high art (especially Lloyd\\'s, which did not stint on budget and were extremely well-crafted); with the introduction of talkies movies had to learn to walk again and they made some missteps.<br /><br />Though he tried to move with the times and embraced sound, Lloyd\\'s best bits from his early (overly talky) talkies were still visual -- such as the scene in \"Movie Crazy\" where he appears to be riding in a swank car, but actually \"hitched a ride\" on his bicycle.<br /><br />Trying to recapture the daredevil antics that made him famous, as he did in \"Feet First\", was misstep. (In \"Safety Last\", his best movie and the one that, deservedly or not, shoved Lloyd in the box as a \"daredevil comic\", he played a determined young man, climbing to the top. \"Safety Last\" had a natural structure that ascended to his character\\'s scaling the side of the building. He was obviously afraid, but his fear added to the humor. In \"Feet First\", he arrived in a precarious building-scaling position by accident; his frantic cries for help detracted from the humor. His character was pathetic and cringing, aspiration to save his neck -- possibly an accurate statement of the 1930s, but not amusing).<br /><br />Harold Lloyd was not mired in the past, like some wacky Norma Desmond. He embraced sound and tried to take his movies in different directions, growing and changing with the industry. When \"Feet First\" failed he left the daredevil business and made a satire on the talking movie industry, \"Movie Crazy\". Just as he had to flounder through many movies as \"Lonesome Luke\" before carving his place in movie history with the glasses character, he had tried several directions in sound movies before hitting his stride in sound, which he did with \"The Catspaw\".<br /><br />In \"The Catspaw\" he plays a missionary\\'s son reared in China who unwittingly gets elected mayor as a front for corrupt political interests. When he finds out the truth, he sets himself the task of cleaning up the town. Only in his early forties, Lloyd could still act the brash young man.<br /><br />Yet \"The Catspaw\" was another box-office failure, and Lloyd made only three more movies, including \"The Milky Way\". Of his chief competitors, Chaplin still had silent movies in him and Keaton was hopelessly mismanaged. \"The Catspaw\" and \"The Milky Way\" suggest Lloyd might have mastered sound comedy if he had been a little younger, or if audiences had given him the benefit of the doubt after his early sound fiascoes.<br /><br />Though the movie has been unfairly maligned about the way Lloyd\\'s character cleaned up the town, it suits him. From his days in \"shorts\" Lloyd wanted to scare his audience, and the climax of \"The Catspaw\" achieved it yet again, in a surprising way; until the trick is revealed it appears gruesome, and then come the laughs.<br /><br />Viewed as a product of its time, \"The Catspaw\" is charming and funny. A very well-written sound comedy, well-acted by Lloyd. Directed by Sam Taylor, its curious blend of drama and sly humor make it look almost like a Frank Capra or Preston Sturges comedy.'"
            ],
            "application/vnd.google.colaboratory.intrinsic+json": {
              "type": "string"
            }
          },
          "metadata": {},
          "execution_count": 35
        }
      ],
      "source": [
        "wrong.iloc[0].text"
      ]
    },
    {
      "cell_type": "markdown",
      "source": [
        "I think the firstwrongly classified is an error of labelisation and is the model guess right. I would have guessed the same"
      ],
      "metadata": {
        "id": "d2M6g5LGDF4R"
      }
    },
    {
      "cell_type": "code",
      "source": [
        "wrong.iloc[2269].text"
      ],
      "metadata": {
        "id": "qo5SWpi4DiJt",
        "outputId": "91ca546c-ae27-4761-9d61-4db7e01e2434",
        "colab": {
          "base_uri": "https://localhost:8080/",
          "height": 106
        }
      },
      "execution_count": 36,
      "outputs": [
        {
          "output_type": "execute_result",
          "data": {
            "text/plain": [
              "'Something not-so-great. \"Silence of the Lambs\" remains Demme\\'s only good film, and I\\'m of course including all the overrated, left-wing exercises in big-screen indulgence some of which I haven\\'t seen - and never will.<br /><br />This is a light comedy that takes a thriller turn somewhere half-way. The first half is a little hard to sit through; it\\'s neither funny nor particularly interesting. Daniels plays an over-the-top dumb-as-dirt naive moron who is so gullible and trusting that it defies belief. His animated acting is often annoying, and barely funny. He actually lies to Griffith at the outset and tells her that he is married, with children, when in fact he is divorced! In all the history of mankind and movies any man who is married and meets a woman he likes will lie - if he lies - and say that he ISN\\'T married. (Later on, the not-at-all credible or believable rationale behind this was revealed: he wanted to \"protect (himself)\". What a load of crap...) The fact that his character makes all the wrong decisions and does all the dumb things in the movie made me actually look forward to Liotta pounding on him when he caught up with him in the former\\'s apartment.<br /><br />What then happens in Daniels\\'s apartment is the classic end-of-movie fight-to-the-death which the good guy - albeit the very dumb good guy - predictably wins. Still, at least the last half-hour has some action, something going on, and Daniels isn\\'t given any more the opportunity to be animated. The film lacks credible characters (whether main or marginal), and the feel of it is too 80s which means the movie has a rather bland look; visually ugly. Sayles yet again makes a cameo as a policeman. The film is also perhaps a bit too heavy on the coincidences side. Griffith once again plays a soft-talking dumb-sounding bimbo, but, as usual, she is convincing because she IS a soft-talking dumb-sounding bimbo. This was an earlier film, before her lip-enlargement and breast-enlargement surgery; compare the natural breasts she exposes in this film to the ready-to-explode balloons she briefly flashes years later in \"Nobody\\'s Fool\".<br /><br />If you\\'re interested in reading my \"biographies\" of Griffith and other Hollywood intellectuals, contact me by e-mail.'"
            ],
            "application/vnd.google.colaboratory.intrinsic+json": {
              "type": "string"
            }
          },
          "metadata": {},
          "execution_count": 36
        }
      ]
    },
    {
      "cell_type": "markdown",
      "source": [
        "Once again the author just explained the movie without giving it's opinion, this is why the model miss classified the data, and had a really small certainty (almost 0.5)"
      ],
      "metadata": {
        "id": "lUC21baXEAU0"
      }
    }
  ],
  "metadata": {
    "colab": {
      "provenance": []
    },
    "kernelspec": {
      "display_name": "Python 3.10.10 ('venv': venv)",
      "language": "python",
      "name": "python3"
    },
    "language_info": {
      "codemirror_mode": {
        "name": "ipython",
        "version": 3
      },
      "file_extension": ".py",
      "mimetype": "text/x-python",
      "name": "python",
      "nbconvert_exporter": "python",
      "pygments_lexer": "ipython3",
      "version": "3.10.9"
    },
    "vscode": {
      "interpreter": {
        "hash": "390a70e01228ef3070670dfc14edcc9e312c192a45f5960bfdc3bf1c389e272e"
      }
    },
    "widgets": {
      "application/vnd.jupyter.widget-state+json": {
        "572426c305754c28a5d6f71298b51b25": {
          "model_module": "@jupyter-widgets/controls",
          "model_name": "HBoxModel",
          "model_module_version": "1.5.0",
          "state": {
            "_dom_classes": [],
            "_model_module": "@jupyter-widgets/controls",
            "_model_module_version": "1.5.0",
            "_model_name": "HBoxModel",
            "_view_count": null,
            "_view_module": "@jupyter-widgets/controls",
            "_view_module_version": "1.5.0",
            "_view_name": "HBoxView",
            "box_style": "",
            "children": [
              "IPY_MODEL_c8453c4e5e2b46aeb2b86839c5be2839",
              "IPY_MODEL_22c88324dc084ecbbc45ee1514934903",
              "IPY_MODEL_80f9b854102d4cd38215f744f7d25934"
            ],
            "layout": "IPY_MODEL_f5d591ad3cb94245a286a53b507f3662"
          }
        },
        "c8453c4e5e2b46aeb2b86839c5be2839": {
          "model_module": "@jupyter-widgets/controls",
          "model_name": "HTMLModel",
          "model_module_version": "1.5.0",
          "state": {
            "_dom_classes": [],
            "_model_module": "@jupyter-widgets/controls",
            "_model_module_version": "1.5.0",
            "_model_name": "HTMLModel",
            "_view_count": null,
            "_view_module": "@jupyter-widgets/controls",
            "_view_module_version": "1.5.0",
            "_view_name": "HTMLView",
            "description": "",
            "description_tooltip": null,
            "layout": "IPY_MODEL_03185056352b42018934c45d0649ca5e",
            "placeholder": "​",
            "style": "IPY_MODEL_8050c855114d4ba1a9404f01d6688e7a",
            "value": "100%"
          }
        },
        "22c88324dc084ecbbc45ee1514934903": {
          "model_module": "@jupyter-widgets/controls",
          "model_name": "FloatProgressModel",
          "model_module_version": "1.5.0",
          "state": {
            "_dom_classes": [],
            "_model_module": "@jupyter-widgets/controls",
            "_model_module_version": "1.5.0",
            "_model_name": "FloatProgressModel",
            "_view_count": null,
            "_view_module": "@jupyter-widgets/controls",
            "_view_module_version": "1.5.0",
            "_view_name": "ProgressView",
            "bar_style": "success",
            "description": "",
            "description_tooltip": null,
            "layout": "IPY_MODEL_146603888a7949b98c89e54f1233ebd3",
            "max": 3,
            "min": 0,
            "orientation": "horizontal",
            "style": "IPY_MODEL_b2d011e572e54f7c9146ee0dab553d21",
            "value": 3
          }
        },
        "80f9b854102d4cd38215f744f7d25934": {
          "model_module": "@jupyter-widgets/controls",
          "model_name": "HTMLModel",
          "model_module_version": "1.5.0",
          "state": {
            "_dom_classes": [],
            "_model_module": "@jupyter-widgets/controls",
            "_model_module_version": "1.5.0",
            "_model_name": "HTMLModel",
            "_view_count": null,
            "_view_module": "@jupyter-widgets/controls",
            "_view_module_version": "1.5.0",
            "_view_name": "HTMLView",
            "description": "",
            "description_tooltip": null,
            "layout": "IPY_MODEL_4c96847cba34497fbcbbf43fe2a6515c",
            "placeholder": "​",
            "style": "IPY_MODEL_d1342dc09ddb4267a1178839ca6e7f06",
            "value": " 3/3 [00:00&lt;00:00, 81.75it/s]"
          }
        },
        "f5d591ad3cb94245a286a53b507f3662": {
          "model_module": "@jupyter-widgets/base",
          "model_name": "LayoutModel",
          "model_module_version": "1.2.0",
          "state": {
            "_model_module": "@jupyter-widgets/base",
            "_model_module_version": "1.2.0",
            "_model_name": "LayoutModel",
            "_view_count": null,
            "_view_module": "@jupyter-widgets/base",
            "_view_module_version": "1.2.0",
            "_view_name": "LayoutView",
            "align_content": null,
            "align_items": null,
            "align_self": null,
            "border": null,
            "bottom": null,
            "display": null,
            "flex": null,
            "flex_flow": null,
            "grid_area": null,
            "grid_auto_columns": null,
            "grid_auto_flow": null,
            "grid_auto_rows": null,
            "grid_column": null,
            "grid_gap": null,
            "grid_row": null,
            "grid_template_areas": null,
            "grid_template_columns": null,
            "grid_template_rows": null,
            "height": null,
            "justify_content": null,
            "justify_items": null,
            "left": null,
            "margin": null,
            "max_height": null,
            "max_width": null,
            "min_height": null,
            "min_width": null,
            "object_fit": null,
            "object_position": null,
            "order": null,
            "overflow": null,
            "overflow_x": null,
            "overflow_y": null,
            "padding": null,
            "right": null,
            "top": null,
            "visibility": null,
            "width": null
          }
        },
        "03185056352b42018934c45d0649ca5e": {
          "model_module": "@jupyter-widgets/base",
          "model_name": "LayoutModel",
          "model_module_version": "1.2.0",
          "state": {
            "_model_module": "@jupyter-widgets/base",
            "_model_module_version": "1.2.0",
            "_model_name": "LayoutModel",
            "_view_count": null,
            "_view_module": "@jupyter-widgets/base",
            "_view_module_version": "1.2.0",
            "_view_name": "LayoutView",
            "align_content": null,
            "align_items": null,
            "align_self": null,
            "border": null,
            "bottom": null,
            "display": null,
            "flex": null,
            "flex_flow": null,
            "grid_area": null,
            "grid_auto_columns": null,
            "grid_auto_flow": null,
            "grid_auto_rows": null,
            "grid_column": null,
            "grid_gap": null,
            "grid_row": null,
            "grid_template_areas": null,
            "grid_template_columns": null,
            "grid_template_rows": null,
            "height": null,
            "justify_content": null,
            "justify_items": null,
            "left": null,
            "margin": null,
            "max_height": null,
            "max_width": null,
            "min_height": null,
            "min_width": null,
            "object_fit": null,
            "object_position": null,
            "order": null,
            "overflow": null,
            "overflow_x": null,
            "overflow_y": null,
            "padding": null,
            "right": null,
            "top": null,
            "visibility": null,
            "width": null
          }
        },
        "8050c855114d4ba1a9404f01d6688e7a": {
          "model_module": "@jupyter-widgets/controls",
          "model_name": "DescriptionStyleModel",
          "model_module_version": "1.5.0",
          "state": {
            "_model_module": "@jupyter-widgets/controls",
            "_model_module_version": "1.5.0",
            "_model_name": "DescriptionStyleModel",
            "_view_count": null,
            "_view_module": "@jupyter-widgets/base",
            "_view_module_version": "1.2.0",
            "_view_name": "StyleView",
            "description_width": ""
          }
        },
        "146603888a7949b98c89e54f1233ebd3": {
          "model_module": "@jupyter-widgets/base",
          "model_name": "LayoutModel",
          "model_module_version": "1.2.0",
          "state": {
            "_model_module": "@jupyter-widgets/base",
            "_model_module_version": "1.2.0",
            "_model_name": "LayoutModel",
            "_view_count": null,
            "_view_module": "@jupyter-widgets/base",
            "_view_module_version": "1.2.0",
            "_view_name": "LayoutView",
            "align_content": null,
            "align_items": null,
            "align_self": null,
            "border": null,
            "bottom": null,
            "display": null,
            "flex": null,
            "flex_flow": null,
            "grid_area": null,
            "grid_auto_columns": null,
            "grid_auto_flow": null,
            "grid_auto_rows": null,
            "grid_column": null,
            "grid_gap": null,
            "grid_row": null,
            "grid_template_areas": null,
            "grid_template_columns": null,
            "grid_template_rows": null,
            "height": null,
            "justify_content": null,
            "justify_items": null,
            "left": null,
            "margin": null,
            "max_height": null,
            "max_width": null,
            "min_height": null,
            "min_width": null,
            "object_fit": null,
            "object_position": null,
            "order": null,
            "overflow": null,
            "overflow_x": null,
            "overflow_y": null,
            "padding": null,
            "right": null,
            "top": null,
            "visibility": null,
            "width": null
          }
        },
        "b2d011e572e54f7c9146ee0dab553d21": {
          "model_module": "@jupyter-widgets/controls",
          "model_name": "ProgressStyleModel",
          "model_module_version": "1.5.0",
          "state": {
            "_model_module": "@jupyter-widgets/controls",
            "_model_module_version": "1.5.0",
            "_model_name": "ProgressStyleModel",
            "_view_count": null,
            "_view_module": "@jupyter-widgets/base",
            "_view_module_version": "1.2.0",
            "_view_name": "StyleView",
            "bar_color": null,
            "description_width": ""
          }
        },
        "4c96847cba34497fbcbbf43fe2a6515c": {
          "model_module": "@jupyter-widgets/base",
          "model_name": "LayoutModel",
          "model_module_version": "1.2.0",
          "state": {
            "_model_module": "@jupyter-widgets/base",
            "_model_module_version": "1.2.0",
            "_model_name": "LayoutModel",
            "_view_count": null,
            "_view_module": "@jupyter-widgets/base",
            "_view_module_version": "1.2.0",
            "_view_name": "LayoutView",
            "align_content": null,
            "align_items": null,
            "align_self": null,
            "border": null,
            "bottom": null,
            "display": null,
            "flex": null,
            "flex_flow": null,
            "grid_area": null,
            "grid_auto_columns": null,
            "grid_auto_flow": null,
            "grid_auto_rows": null,
            "grid_column": null,
            "grid_gap": null,
            "grid_row": null,
            "grid_template_areas": null,
            "grid_template_columns": null,
            "grid_template_rows": null,
            "height": null,
            "justify_content": null,
            "justify_items": null,
            "left": null,
            "margin": null,
            "max_height": null,
            "max_width": null,
            "min_height": null,
            "min_width": null,
            "object_fit": null,
            "object_position": null,
            "order": null,
            "overflow": null,
            "overflow_x": null,
            "overflow_y": null,
            "padding": null,
            "right": null,
            "top": null,
            "visibility": null,
            "width": null
          }
        },
        "d1342dc09ddb4267a1178839ca6e7f06": {
          "model_module": "@jupyter-widgets/controls",
          "model_name": "DescriptionStyleModel",
          "model_module_version": "1.5.0",
          "state": {
            "_model_module": "@jupyter-widgets/controls",
            "_model_module_version": "1.5.0",
            "_model_name": "DescriptionStyleModel",
            "_view_count": null,
            "_view_module": "@jupyter-widgets/base",
            "_view_module_version": "1.2.0",
            "_view_name": "StyleView",
            "description_width": ""
          }
        }
      }
    }
  },
  "nbformat": 4,
  "nbformat_minor": 0
}