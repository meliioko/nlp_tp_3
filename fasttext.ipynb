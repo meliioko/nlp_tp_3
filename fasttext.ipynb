{
  "cells": [
    {
      "cell_type": "code",
      "execution_count": 1,
      "metadata": {
        "colab": {
          "base_uri": "https://localhost:8080/"
        },
        "id": "Lry1hIhlrcOh",
        "outputId": "1ec08b6f-311d-47a0-bcaa-71d946219d85"
      },
      "outputs": [],
      "source": [
        "import fasttext"
      ]
    },
    {
      "attachments": {},
      "cell_type": "markdown",
      "metadata": {},
      "source": [
        "1. (2 points) Turn the dataset into a dataset compatible with Fastext (see the _Tips on using FastText_ section a bit lower).\n",
        "   * For pretreatment, only apply lower casing and punctuation removal."
      ]
    },
    {
      "attachments": {},
      "cell_type": "markdown",
      "metadata": {},
      "source": [
        "First we load the data and apply preatreatment"
      ]
    },
    {
      "cell_type": "code",
      "execution_count": 2,
      "metadata": {
        "colab": {
          "base_uri": "https://localhost:8080/",
          "height": 675,
          "referenced_widgets": [
            "d87fe58112d847cba239a9ae13a1740d",
            "fba183d7c985421eb529e0c811e61b0b",
            "40514ebf9d4c4d2ba7b371282903b179",
            "c296f6f77fb14c42a07173bce4a5d9a9",
            "b4f3221982264fb993315cbff48a4323",
            "72214ce5f3f247b3823e47be73d77222",
            "b56a8cb8fe08421a83fa801d879dd464",
            "6f3eb3d3ed6f424783f6bfa3e3955977",
            "753179d240c14e659b1f18505518c1c2",
            "68ad46c33bd747589539b8907c0ef53c",
            "940caf77f0314c55bbaae3de19eddfef"
          ]
        },
        "id": "hIWggbIWrnW8",
        "outputId": "a01929ad-9099-4cf9-d144-d5a15271143d"
      },
      "outputs": [
        {
          "name": "stderr",
          "output_type": "stream",
          "text": [
            "/home/aeschylli/scia/nlp/venv/lib/python3.10/site-packages/tqdm/auto.py:21: TqdmWarning: IProgress not found. Please update jupyter and ipywidgets. See https://ipywidgets.readthedocs.io/en/stable/user_install.html\n",
            "  from .autonotebook import tqdm as notebook_tqdm\n",
            "Found cached dataset imdb (/home/aeschylli/.cache/huggingface/datasets/imdb/plain_text/1.0.0/d613c88cf8fa3bab83b4ded3713f1f74830d1100e171db75bbddb80b3345c9c0)\n",
            "100%|██████████| 3/3 [00:00<00:00, 33.76it/s]\n",
            "Loading cached split indices for dataset at /home/aeschylli/.cache/huggingface/datasets/imdb/plain_text/1.0.0/d613c88cf8fa3bab83b4ded3713f1f74830d1100e171db75bbddb80b3345c9c0/cache-5f37fd0866e4f89f.arrow and /home/aeschylli/.cache/huggingface/datasets/imdb/plain_text/1.0.0/d613c88cf8fa3bab83b4ded3713f1f74830d1100e171db75bbddb80b3345c9c0/cache-dd5732a0e6ac784c.arrow\n"
          ]
        }
      ],
      "source": [
        "from datasets import load_dataset, Dataset\n",
        "imdb_dataset = load_dataset(\"imdb\")\n",
        "train_dataset = imdb_dataset[\"train\"].train_test_split(\n",
        "    stratify_by_column=\"label\", test_size=0.2, seed=42\n",
        ")\n",
        "test_df = imdb_dataset[\"test\"]\n",
        "train_df = train_dataset[\"train\"]\n",
        "valid_df = train_dataset[\"test\"]"
      ]
    },
    {
      "attachments": {},
      "cell_type": "markdown",
      "metadata": {},
      "source": [
        "Then we create a file and insert the data in a format understandable by fasttext"
      ]
    },
    {
      "cell_type": "code",
      "execution_count": 3,
      "metadata": {
        "colab": {
          "base_uri": "https://localhost:8080/"
        },
        "id": "c7oT3VOPsvcX",
        "outputId": "05c9f678-7aa1-4725-9d09-378644f2a0ba"
      },
      "outputs": [
        {
          "name": "stderr",
          "output_type": "stream",
          "text": [
            "Loading cached shuffled indices for dataset at /home/aeschylli/.cache/huggingface/datasets/imdb/plain_text/1.0.0/d613c88cf8fa3bab83b4ded3713f1f74830d1100e171db75bbddb80b3345c9c0/cache-1646f8e39e83ca42.arrow\n"
          ]
        }
      ],
      "source": [
        "from string import punctuation\n",
        "from typing import Type\n",
        "import re\n",
        "def clean_text(text_data: str) -> str:\n",
        "    \"\"\"\n",
        "    Function lowering and removing ponctuation of a string\n",
        "    \"\"\"\n",
        "    text_data = text_data.lower()\n",
        "    text_data = re.sub(\"[\" + punctuation + \"]( |$)\", \"\", text_data)\n",
        "    return text_data\n",
        "\n",
        "def create_fasttext_file(dataset: Type[Dataset], name: str):\n",
        "    with open(name, 'w') as f:\n",
        "        for example in dataset.shuffle(seed=42):\n",
        "            label = '__label__' + ('positive' if example['label'] == 1 else 'negative')\n",
        "            text = clean_text(example['text']).replace('\\n', ' ')\n",
        "            f.write(label + ' ' + text + '\\n')\n",
        "create_fasttext_file(train_df, 'imdb_train.txt')"
      ]
    },
    {
      "attachments": {},
      "cell_type": "markdown",
      "metadata": {},
      "source": [
        "2. (2 points) Train a FastText classifier with default parameters on the training data, and evaluate it on the test data using accuracy."
      ]
    },
    {
      "cell_type": "code",
      "execution_count": 4,
      "metadata": {
        "id": "JAKqsD3hw3ZS"
      },
      "outputs": [
        {
          "name": "stderr",
          "output_type": "stream",
          "text": [
            "Read 4M words\n",
            "Number of words:  392111\n",
            "Number of labels: 2\n",
            "Progress: 100.0% words/sec/thread: 2989682 lr:  0.000000 avg.loss:  0.468147 ETA:   0h 0m 0s\n"
          ]
        }
      ],
      "source": [
        "model = fasttext.train_supervised('imdb_train.txt')"
      ]
    },
    {
      "cell_type": "code",
      "execution_count": 5,
      "metadata": {
        "colab": {
          "base_uri": "https://localhost:8080/"
        },
        "id": "Xpokp3s-wyMV",
        "outputId": "f59b7c54-cef0-4339-ed12-0e46c8af2742"
      },
      "outputs": [
        {
          "name": "stderr",
          "output_type": "stream",
          "text": [
            "Loading cached shuffled indices for dataset at /home/aeschylli/.cache/huggingface/datasets/imdb/plain_text/1.0.0/d613c88cf8fa3bab83b4ded3713f1f74830d1100e171db75bbddb80b3345c9c0/cache-c1eaa46e94dfbfd3.arrow\n"
          ]
        }
      ],
      "source": [
        "create_fasttext_file(test_df, 'imdb_test.txt')"
      ]
    },
    {
      "cell_type": "code",
      "execution_count": 6,
      "metadata": {
        "colab": {
          "base_uri": "https://localhost:8080/"
        },
        "id": "aAYSDBOKxU1Y",
        "outputId": "9cfa030b-9fe7-4b16-e83b-93e2716af2b1"
      },
      "outputs": [
        {
          "data": {
            "text/plain": [
              "(25000, 0.84156, 0.84156)"
            ]
          },
          "execution_count": 6,
          "metadata": {},
          "output_type": "execute_result"
        }
      ],
      "source": [
        "result = model.test('imdb_test.txt')\n",
        "result"
      ]
    },
    {
      "attachments": {},
      "cell_type": "markdown",
      "metadata": {},
      "source": [
        "The model was evaluated on the 25000 element of the test dataset and have an accuracy of **0.842** (as there is no seeding with fastext, it can be changed by a new execution)"
      ]
    },
    {
      "cell_type": "markdown",
      "metadata": {},
      "source": [
        "3. (2 points) Use the [hyperparameters search functionality](https://fasttext.cc/docs/en/autotune.html) of FastText and repeat step 2.\n",
        "   * To do so, you'll need to [split](https://scikit-learn.org/stable/modules/generated/sklearn.model_selection.train_test_split.html) your training set into a training and a validation set.\n",
        "   * Let the model search for 5 minutes (it's the default search time).\n",
        "   * Don't forget to shuffle (and stratify) your splits. The dataset has its entry ordered by label (0s first, then 1s). Feeding the classifier one class and then the second can mess with its performances."
      ]
    },
    {
      "attachments": {},
      "cell_type": "markdown",
      "metadata": {},
      "source": [
        "First we create the file for the val dataset, used for the hyperparameter search"
      ]
    },
    {
      "cell_type": "code",
      "execution_count": 7,
      "metadata": {
        "colab": {
          "base_uri": "https://localhost:8080/"
        },
        "id": "o2ydWQiMzLzX",
        "outputId": "1b53e5f1-dc53-49f3-aae6-f60334ef53ff"
      },
      "outputs": [
        {
          "name": "stderr",
          "output_type": "stream",
          "text": [
            "Loading cached shuffled indices for dataset at /home/aeschylli/.cache/huggingface/datasets/imdb/plain_text/1.0.0/d613c88cf8fa3bab83b4ded3713f1f74830d1100e171db75bbddb80b3345c9c0/cache-2b5fa46213387c00.arrow\n"
          ]
        }
      ],
      "source": [
        "create_fasttext_file(valid_df, 'imdb_val.txt')"
      ]
    },
    {
      "attachments": {},
      "cell_type": "markdown",
      "metadata": {},
      "source": [
        "Then we use the **train_supervised** function to do the hyperparameter search"
      ]
    },
    {
      "cell_type": "code",
      "execution_count": 8,
      "metadata": {
        "id": "ob1-Vn0602SF"
      },
      "outputs": [
        {
          "name": "stderr",
          "output_type": "stream",
          "text": [
            "Progress:  11.2% Trials:    5 Best score:  0.870400 ETA:   0h 4m26s"
          ]
        },
        {
          "ename": "",
          "evalue": "",
          "output_type": "error",
          "traceback": [
            "\u001b[1;31mCanceled future for execute_request message before replies were done"
          ]
        },
        {
          "ename": "",
          "evalue": "",
          "output_type": "error",
          "traceback": [
            "\u001b[1;31mThe Kernel crashed while executing code in the the current cell or a previous cell. Please review the code in the cell(s) to identify a possible cause of the failure. Click <a href='https://aka.ms/vscodeJupyterKernelCrash'>here</a> for more info. View Jupyter <a href='command:jupyter.viewOutput'>log</a> for further details."
          ]
        }
      ],
      "source": [
        "best_model = fasttext.train_supervised(\n",
        "    input='imdb_train.txt',\n",
        "    autotuneValidationFile='imdb_val.txt',\n",
        "    autotuneMetric='f1',)"
      ]
    },
    {
      "cell_type": "code",
      "execution_count": null,
      "metadata": {},
      "outputs": [
        {
          "name": "stdout",
          "output_type": "stream",
          "text": [
            "Accuracy: 0.87424\n"
          ]
        }
      ],
      "source": [
        "# Test the best model on the test data\n",
        "test_data = 'imdb_test.txt'\n",
        "result = best_model.test(test_data)\n",
        "print(\"Accuracy:\", result[1])"
      ]
    },
    {
      "attachments": {},
      "cell_type": "markdown",
      "metadata": {},
      "source": [
        "The accuracy for the best model is now : **0.87**. We have a 5% improvement wich is big in my opinion."
      ]
    },
    {
      "cell_type": "code",
      "execution_count": null,
      "metadata": {},
      "outputs": [],
      "source": [
        "print('Basic model :')\n",
        "print(f'lr: {model.lr}')\n",
        "print(f'Ngrams: {model.wordNgrams}')\n",
        "print(f'epoch: {model.epoch}')\n",
        "print(f'dim: {model.dim}')\n",
        "print('\\nBest model :')\n",
        "print(f'lr: {best_model.lr}')\n",
        "print(f'Ngrams: {best_model.wordNgrams}')\n",
        "print(f'epoch: {best_model.epoch}')\n",
        "print(f'dim: {best_model.dim}')\n"
      ]
    },
    {
      "cell_type": "code",
      "execution_count": null,
      "metadata": {},
      "outputs": [
        {
          "data": {
            "text/plain": [
              "(('__label__negative',), array([0.99893188]))"
            ]
          },
          "execution_count": 28,
          "metadata": {},
          "output_type": "execute_result"
        }
      ],
      "source": [
        "import pandas as pd\n",
        "\n",
        "data = pd.DataFrame(test_df)\n"
      ]
    },
    {
      "cell_type": "code",
      "execution_count": null,
      "metadata": {},
      "outputs": [
        {
          "data": {
            "text/html": [
              "<div>\n",
              "<style scoped>\n",
              "    .dataframe tbody tr th:only-of-type {\n",
              "        vertical-align: middle;\n",
              "    }\n",
              "\n",
              "    .dataframe tbody tr th {\n",
              "        vertical-align: top;\n",
              "    }\n",
              "\n",
              "    .dataframe thead th {\n",
              "        text-align: right;\n",
              "    }\n",
              "</style>\n",
              "<table border=\"1\" class=\"dataframe\">\n",
              "  <thead>\n",
              "    <tr style=\"text-align: right;\">\n",
              "      <th></th>\n",
              "      <th>text</th>\n",
              "      <th>label</th>\n",
              "      <th>pred</th>\n",
              "      <th>proba</th>\n",
              "    </tr>\n",
              "  </thead>\n",
              "  <tbody>\n",
              "    <tr>\n",
              "      <th>0</th>\n",
              "      <td>I love sci-fi and am willing to put up with a ...</td>\n",
              "      <td>0</td>\n",
              "      <td>0</td>\n",
              "      <td>[0.998931884765625]</td>\n",
              "    </tr>\n",
              "    <tr>\n",
              "      <th>1</th>\n",
              "      <td>Worth the entertainment value of a rental, esp...</td>\n",
              "      <td>0</td>\n",
              "      <td>1</td>\n",
              "      <td>[0.5118221640586853]</td>\n",
              "    </tr>\n",
              "    <tr>\n",
              "      <th>2</th>\n",
              "      <td>its a totally average film with a few semi-alr...</td>\n",
              "      <td>0</td>\n",
              "      <td>0</td>\n",
              "      <td>[0.9995484352111816]</td>\n",
              "    </tr>\n",
              "    <tr>\n",
              "      <th>3</th>\n",
              "      <td>STAR RATING: ***** Saturday Night **** Friday ...</td>\n",
              "      <td>0</td>\n",
              "      <td>0</td>\n",
              "      <td>[0.9991713762283325]</td>\n",
              "    </tr>\n",
              "    <tr>\n",
              "      <th>4</th>\n",
              "      <td>First off let me say, If you haven't enjoyed a...</td>\n",
              "      <td>0</td>\n",
              "      <td>1</td>\n",
              "      <td>[1.0000098943710327]</td>\n",
              "    </tr>\n",
              "    <tr>\n",
              "      <th>...</th>\n",
              "      <td>...</td>\n",
              "      <td>...</td>\n",
              "      <td>...</td>\n",
              "      <td>...</td>\n",
              "    </tr>\n",
              "    <tr>\n",
              "      <th>24995</th>\n",
              "      <td>Just got around to seeing Monster Man yesterda...</td>\n",
              "      <td>1</td>\n",
              "      <td>1</td>\n",
              "      <td>[0.7738313674926758]</td>\n",
              "    </tr>\n",
              "    <tr>\n",
              "      <th>24996</th>\n",
              "      <td>I got this as part of a competition prize. I w...</td>\n",
              "      <td>1</td>\n",
              "      <td>1</td>\n",
              "      <td>[0.68993079662323]</td>\n",
              "    </tr>\n",
              "    <tr>\n",
              "      <th>24997</th>\n",
              "      <td>I got Monster Man in a box set of three films ...</td>\n",
              "      <td>1</td>\n",
              "      <td>0</td>\n",
              "      <td>[0.6534895300865173]</td>\n",
              "    </tr>\n",
              "    <tr>\n",
              "      <th>24998</th>\n",
              "      <td>Five minutes in, i started to feel how naff th...</td>\n",
              "      <td>1</td>\n",
              "      <td>0</td>\n",
              "      <td>[0.9462082982063293]</td>\n",
              "    </tr>\n",
              "    <tr>\n",
              "      <th>24999</th>\n",
              "      <td>I caught this movie on the Sci-Fi channel rece...</td>\n",
              "      <td>1</td>\n",
              "      <td>1</td>\n",
              "      <td>[0.7034647464752197]</td>\n",
              "    </tr>\n",
              "  </tbody>\n",
              "</table>\n",
              "<p>25000 rows × 4 columns</p>\n",
              "</div>"
            ],
            "text/plain": [
              "                                                    text  label  pred   \n",
              "0      I love sci-fi and am willing to put up with a ...      0     0  \\\n",
              "1      Worth the entertainment value of a rental, esp...      0     1   \n",
              "2      its a totally average film with a few semi-alr...      0     0   \n",
              "3      STAR RATING: ***** Saturday Night **** Friday ...      0     0   \n",
              "4      First off let me say, If you haven't enjoyed a...      0     1   \n",
              "...                                                  ...    ...   ...   \n",
              "24995  Just got around to seeing Monster Man yesterda...      1     1   \n",
              "24996  I got this as part of a competition prize. I w...      1     1   \n",
              "24997  I got Monster Man in a box set of three films ...      1     0   \n",
              "24998  Five minutes in, i started to feel how naff th...      1     0   \n",
              "24999  I caught this movie on the Sci-Fi channel rece...      1     1   \n",
              "\n",
              "                      proba  \n",
              "0       [0.998931884765625]  \n",
              "1      [0.5118221640586853]  \n",
              "2      [0.9995484352111816]  \n",
              "3      [0.9991713762283325]  \n",
              "4      [1.0000098943710327]  \n",
              "...                     ...  \n",
              "24995  [0.7738313674926758]  \n",
              "24996    [0.68993079662323]  \n",
              "24997  [0.6534895300865173]  \n",
              "24998  [0.9462082982063293]  \n",
              "24999  [0.7034647464752197]  \n",
              "\n",
              "[25000 rows x 4 columns]"
            ]
          },
          "execution_count": 38,
          "metadata": {},
          "output_type": "execute_result"
        }
      ],
      "source": [
        "data['tuple']= data.text.apply(lambda x: best_model.predict(x))\n",
        "data[['pred', 'proba']] = data.tuple.apply(pd.Series)\n",
        "data.pred = data.pred.apply(lambda x :0 if x[0] == '__label__negative' else 1)\n",
        "data.drop('tuple', axis=1, inplace=True)\n",
        "data"
      ]
    },
    {
      "cell_type": "code",
      "execution_count": null,
      "metadata": {},
      "outputs": [
        {
          "data": {
            "text/html": [
              "<div>\n",
              "<style scoped>\n",
              "    .dataframe tbody tr th:only-of-type {\n",
              "        vertical-align: middle;\n",
              "    }\n",
              "\n",
              "    .dataframe tbody tr th {\n",
              "        vertical-align: top;\n",
              "    }\n",
              "\n",
              "    .dataframe thead th {\n",
              "        text-align: right;\n",
              "    }\n",
              "</style>\n",
              "<table border=\"1\" class=\"dataframe\">\n",
              "  <thead>\n",
              "    <tr style=\"text-align: right;\">\n",
              "      <th></th>\n",
              "      <th>index</th>\n",
              "      <th>text</th>\n",
              "      <th>label</th>\n",
              "      <th>pred</th>\n",
              "      <th>proba</th>\n",
              "    </tr>\n",
              "  </thead>\n",
              "  <tbody>\n",
              "    <tr>\n",
              "      <th>0</th>\n",
              "      <td>1</td>\n",
              "      <td>Worth the entertainment value of a rental, esp...</td>\n",
              "      <td>0</td>\n",
              "      <td>1</td>\n",
              "      <td>[0.5118221640586853]</td>\n",
              "    </tr>\n",
              "    <tr>\n",
              "      <th>1</th>\n",
              "      <td>4</td>\n",
              "      <td>First off let me say, If you haven't enjoyed a...</td>\n",
              "      <td>0</td>\n",
              "      <td>1</td>\n",
              "      <td>[1.0000098943710327]</td>\n",
              "    </tr>\n",
              "    <tr>\n",
              "      <th>2</th>\n",
              "      <td>22</td>\n",
              "      <td>The Forgotten (AKA: Don't Look In The Basement...</td>\n",
              "      <td>0</td>\n",
              "      <td>1</td>\n",
              "      <td>[0.6209208965301514]</td>\n",
              "    </tr>\n",
              "    <tr>\n",
              "      <th>3</th>\n",
              "      <td>28</td>\n",
              "      <td>Four things intrigued me as to this film - fir...</td>\n",
              "      <td>0</td>\n",
              "      <td>1</td>\n",
              "      <td>[0.9790410399436951]</td>\n",
              "    </tr>\n",
              "    <tr>\n",
              "      <th>4</th>\n",
              "      <td>41</td>\n",
              "      <td>Widow hires a psychopath as a handyman. Sloppy...</td>\n",
              "      <td>0</td>\n",
              "      <td>1</td>\n",
              "      <td>[0.7631122469902039]</td>\n",
              "    </tr>\n",
              "    <tr>\n",
              "      <th>...</th>\n",
              "      <td>...</td>\n",
              "      <td>...</td>\n",
              "      <td>...</td>\n",
              "      <td>...</td>\n",
              "      <td>...</td>\n",
              "    </tr>\n",
              "    <tr>\n",
              "      <th>3212</th>\n",
              "      <td>24981</td>\n",
              "      <td>\"Gaming? Nicotine? Fisticuffs? We're moving in...</td>\n",
              "      <td>1</td>\n",
              "      <td>0</td>\n",
              "      <td>[0.5742045044898987]</td>\n",
              "    </tr>\n",
              "    <tr>\n",
              "      <th>3213</th>\n",
              "      <td>24985</td>\n",
              "      <td>This was on Showtime the other night, and I fi...</td>\n",
              "      <td>1</td>\n",
              "      <td>0</td>\n",
              "      <td>[0.9910656213760376]</td>\n",
              "    </tr>\n",
              "    <tr>\n",
              "      <th>3214</th>\n",
              "      <td>24986</td>\n",
              "      <td>If you took a really good jack black movie, ad...</td>\n",
              "      <td>1</td>\n",
              "      <td>0</td>\n",
              "      <td>[0.961755633354187]</td>\n",
              "    </tr>\n",
              "    <tr>\n",
              "      <th>3215</th>\n",
              "      <td>24997</td>\n",
              "      <td>I got Monster Man in a box set of three films ...</td>\n",
              "      <td>1</td>\n",
              "      <td>0</td>\n",
              "      <td>[0.6534895300865173]</td>\n",
              "    </tr>\n",
              "    <tr>\n",
              "      <th>3216</th>\n",
              "      <td>24998</td>\n",
              "      <td>Five minutes in, i started to feel how naff th...</td>\n",
              "      <td>1</td>\n",
              "      <td>0</td>\n",
              "      <td>[0.9462082982063293]</td>\n",
              "    </tr>\n",
              "  </tbody>\n",
              "</table>\n",
              "<p>3217 rows × 5 columns</p>\n",
              "</div>"
            ],
            "text/plain": [
              "      index                                               text  label  pred   \n",
              "0         1  Worth the entertainment value of a rental, esp...      0     1  \\\n",
              "1         4  First off let me say, If you haven't enjoyed a...      0     1   \n",
              "2        22  The Forgotten (AKA: Don't Look In The Basement...      0     1   \n",
              "3        28  Four things intrigued me as to this film - fir...      0     1   \n",
              "4        41  Widow hires a psychopath as a handyman. Sloppy...      0     1   \n",
              "...     ...                                                ...    ...   ...   \n",
              "3212  24981  \"Gaming? Nicotine? Fisticuffs? We're moving in...      1     0   \n",
              "3213  24985  This was on Showtime the other night, and I fi...      1     0   \n",
              "3214  24986  If you took a really good jack black movie, ad...      1     0   \n",
              "3215  24997  I got Monster Man in a box set of three films ...      1     0   \n",
              "3216  24998  Five minutes in, i started to feel how naff th...      1     0   \n",
              "\n",
              "                     proba  \n",
              "0     [0.5118221640586853]  \n",
              "1     [1.0000098943710327]  \n",
              "2     [0.6209208965301514]  \n",
              "3     [0.9790410399436951]  \n",
              "4     [0.7631122469902039]  \n",
              "...                    ...  \n",
              "3212  [0.5742045044898987]  \n",
              "3213  [0.9910656213760376]  \n",
              "3214   [0.961755633354187]  \n",
              "3215  [0.6534895300865173]  \n",
              "3216  [0.9462082982063293]  \n",
              "\n",
              "[3217 rows x 5 columns]"
            ]
          },
          "execution_count": 39,
          "metadata": {},
          "output_type": "execute_result"
        }
      ],
      "source": [
        "wrong = data.loc[data.label != data.pred]\n",
        "wrong.reset_index(inplace=True)\n",
        "wrong"
      ]
    },
    {
      "cell_type": "code",
      "execution_count": null,
      "metadata": {},
      "outputs": [
        {
          "data": {
            "text/plain": [
              "\"Worth the entertainment value of a rental, especially if you like action movies. This one features the usual car chases, fights with the great Van Damme kick style, shooting battles with the 40 shell load shotgun, and even terrorist style bombs. All of this is entertaining and competently handled but there is nothing that really blows you away if you've seen your share before.<br /><br />The plot is made interesting by the inclusion of a rabbit, which is clever but hardly profound. Many of the characters are heavily stereotyped -- the angry veterans, the terrified illegal aliens, the crooked cops, the indifferent feds, the bitchy tough lady station head, the crooked politician, the fat federale who looks like he was typecast as the Mexican in a Hollywood movie from the 1940s. All passably acted but again nothing special.<br /><br />I thought the main villains were pretty well done and fairly well acted. By the end of the movie you certainly knew who the good guys were and weren't. There was an emotional lift as the really bad ones got their just deserts. Very simplistic, but then you weren't expecting Hamlet, right? The only thing I found really annoying was the constant cuts to VDs daughter during the last fight scene.<br /><br />Not bad. Not good. Passable 4.\""
            ]
          },
          "execution_count": 42,
          "metadata": {},
          "output_type": "execute_result"
        }
      ],
      "source": [
        "wrong.iloc[0].text"
      ]
    }
  ],
  "metadata": {
    "colab": {
      "authorship_tag": "ABX9TyOJ1M7EJnMikVRoU+4hoHdm",
      "provenance": []
    },
    "kernelspec": {
      "display_name": "Python 3.10.10 ('venv': venv)",
      "language": "python",
      "name": "python3"
    },
    "language_info": {
      "codemirror_mode": {
        "name": "ipython",
        "version": 3
      },
      "file_extension": ".py",
      "mimetype": "text/x-python",
      "name": "python",
      "nbconvert_exporter": "python",
      "pygments_lexer": "ipython3",
      "version": "3.10.9"
    },
    "vscode": {
      "interpreter": {
        "hash": "390a70e01228ef3070670dfc14edcc9e312c192a45f5960bfdc3bf1c389e272e"
      }
    },
    "widgets": {
      "application/vnd.jupyter.widget-state+json": {
        "40514ebf9d4c4d2ba7b371282903b179": {
          "model_module": "@jupyter-widgets/controls",
          "model_module_version": "1.5.0",
          "model_name": "FloatProgressModel",
          "state": {
            "_dom_classes": [],
            "_model_module": "@jupyter-widgets/controls",
            "_model_module_version": "1.5.0",
            "_model_name": "FloatProgressModel",
            "_view_count": null,
            "_view_module": "@jupyter-widgets/controls",
            "_view_module_version": "1.5.0",
            "_view_name": "ProgressView",
            "bar_style": "success",
            "description": "",
            "description_tooltip": null,
            "layout": "IPY_MODEL_6f3eb3d3ed6f424783f6bfa3e3955977",
            "max": 3,
            "min": 0,
            "orientation": "horizontal",
            "style": "IPY_MODEL_753179d240c14e659b1f18505518c1c2",
            "value": 3
          }
        },
        "68ad46c33bd747589539b8907c0ef53c": {
          "model_module": "@jupyter-widgets/base",
          "model_module_version": "1.2.0",
          "model_name": "LayoutModel",
          "state": {
            "_model_module": "@jupyter-widgets/base",
            "_model_module_version": "1.2.0",
            "_model_name": "LayoutModel",
            "_view_count": null,
            "_view_module": "@jupyter-widgets/base",
            "_view_module_version": "1.2.0",
            "_view_name": "LayoutView",
            "align_content": null,
            "align_items": null,
            "align_self": null,
            "border": null,
            "bottom": null,
            "display": null,
            "flex": null,
            "flex_flow": null,
            "grid_area": null,
            "grid_auto_columns": null,
            "grid_auto_flow": null,
            "grid_auto_rows": null,
            "grid_column": null,
            "grid_gap": null,
            "grid_row": null,
            "grid_template_areas": null,
            "grid_template_columns": null,
            "grid_template_rows": null,
            "height": null,
            "justify_content": null,
            "justify_items": null,
            "left": null,
            "margin": null,
            "max_height": null,
            "max_width": null,
            "min_height": null,
            "min_width": null,
            "object_fit": null,
            "object_position": null,
            "order": null,
            "overflow": null,
            "overflow_x": null,
            "overflow_y": null,
            "padding": null,
            "right": null,
            "top": null,
            "visibility": null,
            "width": null
          }
        },
        "6f3eb3d3ed6f424783f6bfa3e3955977": {
          "model_module": "@jupyter-widgets/base",
          "model_module_version": "1.2.0",
          "model_name": "LayoutModel",
          "state": {
            "_model_module": "@jupyter-widgets/base",
            "_model_module_version": "1.2.0",
            "_model_name": "LayoutModel",
            "_view_count": null,
            "_view_module": "@jupyter-widgets/base",
            "_view_module_version": "1.2.0",
            "_view_name": "LayoutView",
            "align_content": null,
            "align_items": null,
            "align_self": null,
            "border": null,
            "bottom": null,
            "display": null,
            "flex": null,
            "flex_flow": null,
            "grid_area": null,
            "grid_auto_columns": null,
            "grid_auto_flow": null,
            "grid_auto_rows": null,
            "grid_column": null,
            "grid_gap": null,
            "grid_row": null,
            "grid_template_areas": null,
            "grid_template_columns": null,
            "grid_template_rows": null,
            "height": null,
            "justify_content": null,
            "justify_items": null,
            "left": null,
            "margin": null,
            "max_height": null,
            "max_width": null,
            "min_height": null,
            "min_width": null,
            "object_fit": null,
            "object_position": null,
            "order": null,
            "overflow": null,
            "overflow_x": null,
            "overflow_y": null,
            "padding": null,
            "right": null,
            "top": null,
            "visibility": null,
            "width": null
          }
        },
        "72214ce5f3f247b3823e47be73d77222": {
          "model_module": "@jupyter-widgets/base",
          "model_module_version": "1.2.0",
          "model_name": "LayoutModel",
          "state": {
            "_model_module": "@jupyter-widgets/base",
            "_model_module_version": "1.2.0",
            "_model_name": "LayoutModel",
            "_view_count": null,
            "_view_module": "@jupyter-widgets/base",
            "_view_module_version": "1.2.0",
            "_view_name": "LayoutView",
            "align_content": null,
            "align_items": null,
            "align_self": null,
            "border": null,
            "bottom": null,
            "display": null,
            "flex": null,
            "flex_flow": null,
            "grid_area": null,
            "grid_auto_columns": null,
            "grid_auto_flow": null,
            "grid_auto_rows": null,
            "grid_column": null,
            "grid_gap": null,
            "grid_row": null,
            "grid_template_areas": null,
            "grid_template_columns": null,
            "grid_template_rows": null,
            "height": null,
            "justify_content": null,
            "justify_items": null,
            "left": null,
            "margin": null,
            "max_height": null,
            "max_width": null,
            "min_height": null,
            "min_width": null,
            "object_fit": null,
            "object_position": null,
            "order": null,
            "overflow": null,
            "overflow_x": null,
            "overflow_y": null,
            "padding": null,
            "right": null,
            "top": null,
            "visibility": null,
            "width": null
          }
        },
        "753179d240c14e659b1f18505518c1c2": {
          "model_module": "@jupyter-widgets/controls",
          "model_module_version": "1.5.0",
          "model_name": "ProgressStyleModel",
          "state": {
            "_model_module": "@jupyter-widgets/controls",
            "_model_module_version": "1.5.0",
            "_model_name": "ProgressStyleModel",
            "_view_count": null,
            "_view_module": "@jupyter-widgets/base",
            "_view_module_version": "1.2.0",
            "_view_name": "StyleView",
            "bar_color": null,
            "description_width": ""
          }
        },
        "940caf77f0314c55bbaae3de19eddfef": {
          "model_module": "@jupyter-widgets/controls",
          "model_module_version": "1.5.0",
          "model_name": "DescriptionStyleModel",
          "state": {
            "_model_module": "@jupyter-widgets/controls",
            "_model_module_version": "1.5.0",
            "_model_name": "DescriptionStyleModel",
            "_view_count": null,
            "_view_module": "@jupyter-widgets/base",
            "_view_module_version": "1.2.0",
            "_view_name": "StyleView",
            "description_width": ""
          }
        },
        "b4f3221982264fb993315cbff48a4323": {
          "model_module": "@jupyter-widgets/base",
          "model_module_version": "1.2.0",
          "model_name": "LayoutModel",
          "state": {
            "_model_module": "@jupyter-widgets/base",
            "_model_module_version": "1.2.0",
            "_model_name": "LayoutModel",
            "_view_count": null,
            "_view_module": "@jupyter-widgets/base",
            "_view_module_version": "1.2.0",
            "_view_name": "LayoutView",
            "align_content": null,
            "align_items": null,
            "align_self": null,
            "border": null,
            "bottom": null,
            "display": null,
            "flex": null,
            "flex_flow": null,
            "grid_area": null,
            "grid_auto_columns": null,
            "grid_auto_flow": null,
            "grid_auto_rows": null,
            "grid_column": null,
            "grid_gap": null,
            "grid_row": null,
            "grid_template_areas": null,
            "grid_template_columns": null,
            "grid_template_rows": null,
            "height": null,
            "justify_content": null,
            "justify_items": null,
            "left": null,
            "margin": null,
            "max_height": null,
            "max_width": null,
            "min_height": null,
            "min_width": null,
            "object_fit": null,
            "object_position": null,
            "order": null,
            "overflow": null,
            "overflow_x": null,
            "overflow_y": null,
            "padding": null,
            "right": null,
            "top": null,
            "visibility": null,
            "width": null
          }
        },
        "b56a8cb8fe08421a83fa801d879dd464": {
          "model_module": "@jupyter-widgets/controls",
          "model_module_version": "1.5.0",
          "model_name": "DescriptionStyleModel",
          "state": {
            "_model_module": "@jupyter-widgets/controls",
            "_model_module_version": "1.5.0",
            "_model_name": "DescriptionStyleModel",
            "_view_count": null,
            "_view_module": "@jupyter-widgets/base",
            "_view_module_version": "1.2.0",
            "_view_name": "StyleView",
            "description_width": ""
          }
        },
        "c296f6f77fb14c42a07173bce4a5d9a9": {
          "model_module": "@jupyter-widgets/controls",
          "model_module_version": "1.5.0",
          "model_name": "HTMLModel",
          "state": {
            "_dom_classes": [],
            "_model_module": "@jupyter-widgets/controls",
            "_model_module_version": "1.5.0",
            "_model_name": "HTMLModel",
            "_view_count": null,
            "_view_module": "@jupyter-widgets/controls",
            "_view_module_version": "1.5.0",
            "_view_name": "HTMLView",
            "description": "",
            "description_tooltip": null,
            "layout": "IPY_MODEL_68ad46c33bd747589539b8907c0ef53c",
            "placeholder": "​",
            "style": "IPY_MODEL_940caf77f0314c55bbaae3de19eddfef",
            "value": " 3/3 [00:00&lt;00:00, 50.97it/s]"
          }
        },
        "d87fe58112d847cba239a9ae13a1740d": {
          "model_module": "@jupyter-widgets/controls",
          "model_module_version": "1.5.0",
          "model_name": "HBoxModel",
          "state": {
            "_dom_classes": [],
            "_model_module": "@jupyter-widgets/controls",
            "_model_module_version": "1.5.0",
            "_model_name": "HBoxModel",
            "_view_count": null,
            "_view_module": "@jupyter-widgets/controls",
            "_view_module_version": "1.5.0",
            "_view_name": "HBoxView",
            "box_style": "",
            "children": [
              "IPY_MODEL_fba183d7c985421eb529e0c811e61b0b",
              "IPY_MODEL_40514ebf9d4c4d2ba7b371282903b179",
              "IPY_MODEL_c296f6f77fb14c42a07173bce4a5d9a9"
            ],
            "layout": "IPY_MODEL_b4f3221982264fb993315cbff48a4323"
          }
        },
        "fba183d7c985421eb529e0c811e61b0b": {
          "model_module": "@jupyter-widgets/controls",
          "model_module_version": "1.5.0",
          "model_name": "HTMLModel",
          "state": {
            "_dom_classes": [],
            "_model_module": "@jupyter-widgets/controls",
            "_model_module_version": "1.5.0",
            "_model_name": "HTMLModel",
            "_view_count": null,
            "_view_module": "@jupyter-widgets/controls",
            "_view_module_version": "1.5.0",
            "_view_name": "HTMLView",
            "description": "",
            "description_tooltip": null,
            "layout": "IPY_MODEL_72214ce5f3f247b3823e47be73d77222",
            "placeholder": "​",
            "style": "IPY_MODEL_b56a8cb8fe08421a83fa801d879dd464",
            "value": "100%"
          }
        }
      }
    }
  },
  "nbformat": 4,
  "nbformat_minor": 0
}
